{
 "cells": [
  {
   "cell_type": "code",
   "execution_count": 1,
   "metadata": {
    "executionInfo": {
     "elapsed": 36,
     "status": "ok",
     "timestamp": 1741400676890,
     "user": {
      "displayName": "Tyler Brough",
      "userId": "16546974380472603827"
     },
     "user_tz": 420
    },
    "id": "Ih66GSm8jrjD"
   },
   "outputs": [],
   "source": [
    "import numpy as np\n",
    "import matplotlib.pyplot as plt\n",
    "\n",
    "from scipy.stats import norm"
   ]
  },
  {
   "cell_type": "code",
   "execution_count": 2,
   "metadata": {
    "executionInfo": {
     "elapsed": 2,
     "status": "ok",
     "timestamp": 1741400588765,
     "user": {
      "displayName": "Tyler Brough",
      "userId": "16546974380472603827"
     },
     "user_tz": 420
    },
    "id": "p6BQQELYkA9o"
   },
   "outputs": [],
   "source": [
    "S, K, r, v, q, T, n_reps, n_steps = 41.0, 40.0, 0.08, 0.30, 0.0, 1, 500_000, 252"
   ]
  },
  {
   "cell_type": "code",
   "execution_count": 3,
   "metadata": {
    "executionInfo": {
     "elapsed": 14,
     "status": "ok",
     "timestamp": 1741401448271,
     "user": {
      "displayName": "Tyler Brough",
      "userId": "16546974380472603827"
     },
     "user_tz": 420
    },
    "id": "W8yxtIIBkEGX"
   },
   "outputs": [],
   "source": [
    "def asset_paths(S: float, mu: float, sigma: float, div: float, T: int, n_reps: int, n_steps: int) -> np.ndarray:\n",
    "  dt = T / n_steps\n",
    "  nudt = (mu - div - 0.5*sigma*sigma)*dt\n",
    "  sidt = sigma*np.sqrt(dt)\n",
    "  z = nudt + sidt*np.random.normal(size=(n_reps, n_steps))\n",
    "  paths = np.cumsum(np.concatenate((np.full((n_reps, 1), np.log(S)), z), axis=1), axis=1)\n",
    "\n",
    "  return np.exp(paths)"
   ]
  },
  {
   "cell_type": "code",
   "execution_count": 4,
   "metadata": {
    "executionInfo": {
     "elapsed": 6795,
     "status": "ok",
     "timestamp": 1741402177584,
     "user": {
      "displayName": "Tyler Brough",
      "userId": "16546974380472603827"
     },
     "user_tz": 420
    },
    "id": "Qf2lSk9UkGYJ"
   },
   "outputs": [],
   "source": [
    "mu = 0.30\n",
    "paths = asset_paths(S, mu, v, q, T, n_reps, n_steps)"
   ]
  },
  {
   "cell_type": "code",
   "execution_count": 5,
   "metadata": {
    "executionInfo": {
     "elapsed": 1,
     "status": "ok",
     "timestamp": 1741402178337,
     "user": {
      "displayName": "Tyler Brough",
      "userId": "16546974380472603827"
     },
     "user_tz": 420
    },
    "id": "L_-Ps__4l-gf"
   },
   "outputs": [],
   "source": [
    "def put_payoff(spot: float, strike: float):\n",
    "  return np.maximum(strike - spot, 0)"
   ]
  },
  {
   "cell_type": "code",
   "execution_count": 6,
   "metadata": {
    "executionInfo": {
     "elapsed": 1,
     "status": "ok",
     "timestamp": 1741402178833,
     "user": {
      "displayName": "Tyler Brough",
      "userId": "16546974380472603827"
     },
     "user_tz": 420
    },
    "id": "Md12P6Q5l_hc"
   },
   "outputs": [],
   "source": [
    "def call_payoff(spot: float, strike: float):\n",
    "  return np.maximum(spot - strike, 0)"
   ]
  },
  {
   "cell_type": "code",
   "execution_count": 7,
   "metadata": {
    "executionInfo": {
     "elapsed": 1,
     "status": "ok",
     "timestamp": 1741402179275,
     "user": {
      "displayName": "Tyler Brough",
      "userId": "16546974380472603827"
     },
     "user_tz": 420
    },
    "id": "GW8NyZ4ZkT8r"
   },
   "outputs": [],
   "source": [
    "def bsdelta(S, K, r, v, q, T):\n",
    "  d1 = (np.log(S/K) + (r-q+0.5*v*v)*T) / (v*np.sqrt(T))\n",
    "  return np.exp(-q*T)*norm.cdf(d1)"
   ]
  },
  {
   "cell_type": "code",
   "execution_count": 13,
   "metadata": {
    "executionInfo": {
     "elapsed": 3,
     "status": "ok",
     "timestamp": 1741402179721,
     "user": {
      "displayName": "Tyler Brough",
      "userId": "16546974380472603827"
     },
     "user_tz": 420
    },
    "id": "lOCZGI9bkIEw"
   },
   "outputs": [],
   "source": [
    "def hmc(S, K, mu, r, v, q, T, n_reps, n_steps):\n",
    "  paths = asset_paths(S, mu, v, q, T, n_reps, n_steps)\n",
    "  dt = T / n_steps\n",
    "  df = np.exp(-r*dt)\n",
    "  cf = put_payoff(paths[:, -1], K)\n",
    "\n",
    "  for i in reversed(range(1, n_steps - 1)):\n",
    "    tau = T - i * dt\n",
    "    h = bsdelta(paths[:, i], K, r, v, q, tau)\n",
    "    x = paths[:, i]\n",
    "    s = paths[:, i+1] * df\n",
    "    p = put_payoff(x, K)\n",
    "    cf *= df\n",
    "    cf -= h * (s - x)\n",
    "    itm = p > 0.0\n",
    "    #print(i, np.sum(itm))\n",
    "    fitted = np.polynomial.Polynomial.fit(x[itm], cf[itm], 3)\n",
    "    c = fitted(x)\n",
    "    jj = itm & (p > c)\n",
    "    cf[jj] = p[jj]\n",
    "\n",
    "  price = df * np.mean(cf)\n",
    "\n",
    "  return price"
   ]
  },
  {
   "cell_type": "code",
   "execution_count": 14,
   "metadata": {
    "colab": {
     "base_uri": "https://localhost:8080/"
    },
    "executionInfo": {
     "elapsed": 37043,
     "status": "ok",
     "timestamp": 1741402217404,
     "user": {
      "displayName": "Tyler Brough",
      "userId": "16546974380472603827"
     },
     "user_tz": 420
    },
    "id": "e4z8AYXbmJkz",
    "outputId": "c9ab55c8-dbb3-447a-b6e3-e2ad297522a2"
   },
   "outputs": [
    {
     "data": {
      "text/plain": [
       "np.float64(-2.358113057908326)"
      ]
     },
     "execution_count": 14,
     "metadata": {},
     "output_type": "execute_result"
    }
   ],
   "source": [
    "prc_hmc = hmc(S, K, mu, r, v, q, T, n_reps, n_steps)\n",
    "prc_hmc"
   ]
  },
  {
   "cell_type": "code",
   "execution_count": 11,
   "metadata": {
    "executionInfo": {
     "elapsed": 41,
     "status": "ok",
     "timestamp": 1741401993334,
     "user": {
      "displayName": "Tyler Brough",
      "userId": "16546974380472603827"
     },
     "user_tz": 420
    },
    "id": "g8geib-fmM3a"
   },
   "outputs": [],
   "source": [
    "def lattice(S, K, r, v, q, T, n_steps):\n",
    "    dt = T/n_steps\n",
    "    u = np.exp((r - q)*dt + v*np.sqrt(dt))\n",
    "    d = np.exp((r - q)*dt - v*np.sqrt(dt))\n",
    "    pu = (np.exp((r - q)*dt) - d) / (u - d)\n",
    "    pd = 1.0 - pu\n",
    "    dsc = np.exp(-r * dt)\n",
    "\n",
    "    ii = np.arange(n_steps + 1)\n",
    "    x = S * (u ** (n_steps - ii)) * (d ** ii)\n",
    "    f = put_payoff(x, K)\n",
    "\n",
    "    for i in range(n_steps - 1, -1, -1):\n",
    "        for j in range(i + 1):\n",
    "            f_tmp = dsc * (pu*f[j] + pd*f[j+1])\n",
    "            x[j] /= u\n",
    "            f[j] = np.maximum(f_tmp, put_payoff(x[j], K))\n",
    "\n",
    "    price = np.maximum(f[0], put_payoff(S, K))\n",
    "\n",
    "    return price"
   ]
  },
  {
   "cell_type": "code",
   "execution_count": 15,
   "metadata": {
    "colab": {
     "base_uri": "https://localhost:8080/"
    },
    "executionInfo": {
     "elapsed": 501,
     "status": "ok",
     "timestamp": 1741401998203,
     "user": {
      "displayName": "Tyler Brough",
      "userId": "16546974380472603827"
     },
     "user_tz": 420
    },
    "id": "uLIJcfPdnrDL",
    "outputId": "bb994231-a43c-4e96-a9cf-16a7b3d8adb2"
   },
   "outputs": [
    {
     "data": {
      "text/plain": [
       "np.float64(3.187842568434796)"
      ]
     },
     "execution_count": 15,
     "metadata": {},
     "output_type": "execute_result"
    }
   ],
   "source": [
    "prc_bin = lattice(S, K, r, v, q, T, 500)\n",
    "prc_bin"
   ]
  },
  {
   "cell_type": "code",
   "execution_count": null,
   "metadata": {
    "id": "e7bAsSE4nu5b"
   },
   "outputs": [],
   "source": []
  }
 ],
 "metadata": {
  "colab": {
   "authorship_tag": "ABX9TyNbschSvTS60s9PACSVsMmz",
   "provenance": []
  },
  "kernelspec": {
   "display_name": "pred-fintech",
   "language": "python",
   "name": "python3"
  },
  "language_info": {
   "codemirror_mode": {
    "name": "ipython",
    "version": 3
   },
   "file_extension": ".py",
   "mimetype": "text/x-python",
   "name": "python",
   "nbconvert_exporter": "python",
   "pygments_lexer": "ipython3",
   "version": "3.12.8"
  }
 },
 "nbformat": 4,
 "nbformat_minor": 0
}
